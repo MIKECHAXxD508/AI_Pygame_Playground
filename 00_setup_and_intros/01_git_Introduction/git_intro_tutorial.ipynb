{
 "cells": [
  {
   "cell_type": "markdown",
   "id": "87317ebf",
   "metadata": {},
   "source": [
    "# Creating a Github Student Account\n",
    "\n",
    "URL: [education.github.com/pack](https://education.github.com/pack)"
   ]
  },
  {
   "cell_type": "markdown",
   "id": "0c72cc38",
   "metadata": {},
   "source": [
    "# Introduction to Git: Saving Your Progress\n",
    "\n",
    "Welcome to this tutorial on Git! You've already forked a GitHub repository and opened it in Codespaces. Now, let's learn how to use Git to save your progress as you work on your machine learning project.\n",
    "\n",
    "## What is Git?\n",
    "\n",
    "Git is a version control system. It helps you keep track of the changes you make to your code over time. Imagine it as a save button for your project, allowing you to go back to previous versions if needed."
   ]
  },
  {
   "cell_type": "markdown",
   "id": "0a5105f4",
   "metadata": {},
   "source": [
    "## Step 1: Checking the Git Status\n",
    "\n",
    "Before making any changes, let's check the status of your repository. This will show you the current state of your files.\n",
    "\n",
    "In the code block below, type the following command and run it:\n",
    "\n",
    "```bash\n",
    "git status\n",
    "```"
   ]
  },
  {
   "cell_type": "code",
   "execution_count": null,
   "id": "1dfb0c85",
   "metadata": {},
   "outputs": [],
   "source": []
  },
  {
   "cell_type": "markdown",
   "id": "5bf861d8",
   "metadata": {},
   "source": [
    "## Step 2: Making Changes to Your Project\n",
    "\n",
    "You have already made changes to this by writing the code in the last step. Now, you want to save those changes using Git.\n",
    "\n",
    "In case this file is not automatically saved type Cntrl + S."
   ]
  },
  {
   "cell_type": "markdown",
   "id": "da99f5e9",
   "metadata": {},
   "source": [
    "## Step 3: Staging Your Changes\n",
    "\n",
    "Before you save (commit) your changes, you need to stage them. Staging is like telling Git which changes you want to include in your next save.\n",
    "\n",
    "In the code block below, type the following command and run it to stage all changes:\n",
    "\n",
    "```bash\n",
    "git add .\n",
    "```\n",
    "\n",
    "This command stages all the changes in your project."
   ]
  },
  {
   "cell_type": "code",
   "execution_count": 5,
   "id": "8ae62555",
   "metadata": {},
   "outputs": [],
   "source": []
  },
  {
   "cell_type": "markdown",
   "id": "4fee60d5",
   "metadata": {},
   "source": [
    "## Step 4: Committing Your Changes\n",
    "\n",
    "Now that your changes are staged, it's time to commit them. A commit is like taking a snapshot of your project at this moment.\n",
    "\n",
    "In the code block below, type the following command and run it to commit your changes:\n",
    "\n",
    "```bash\n",
    "git commit -m \"Save my progress\"\n",
    "```\n",
    "\n",
    "The `-m` flag allows you to add a message explaining what changes you made. It's good practice to write clear and concise messages."
   ]
  },
  {
   "cell_type": "code",
   "execution_count": null,
   "id": "c245baf5",
   "metadata": {},
   "outputs": [],
   "source": []
  },
  {
   "cell_type": "markdown",
   "id": "85bfc459",
   "metadata": {},
   "source": [
    "## Step 5: Pushing Your Changes to GitHub\n",
    "\n",
    "After committing your changes, the next step is to push them to your GitHub repository. This saves your changes to the cloud so you can access them from anywhere.\n",
    "\n",
    "In the code block below, type the following command and run it to push your changes:\n",
    "\n",
    "```bash\n",
    "git push\n",
    "```\n",
    "\n",
    "This command sends your committed changes to GitHub. Now, anyone who looks at your forked repository can see your progress!"
   ]
  },
  {
   "cell_type": "code",
   "execution_count": null,
   "id": "0fcbb111",
   "metadata": {},
   "outputs": [],
   "source": []
  },
  {
   "cell_type": "markdown",
   "id": "09ed2607",
   "metadata": {},
   "source": [
    "## Summary\n",
    "\n",
    "Great job! You've learned the basics of Git: checking the status, staging changes, committing them, and pushing your progress to GitHub. These are essential skills that will help you manage your code as you work on your machine learning project.\n",
    "\n",
    "In the future to save your changes you can either return to this file or you can run the commands in the console. To open the console hold down Cntrl + ~"
   ]
  },
  {
   "cell_type": "code",
   "execution_count": null,
   "id": "d609fb2a",
   "metadata": {},
   "outputs": [],
   "source": [
    "! git add .\n",
    "! git commit -m \"saving progress\"\n",
    "! git push"
   ]
  }
 ],
 "metadata": {
  "kernelspec": {
   "display_name": "Python 3",
   "language": "python",
   "name": "python3"
  },
  "language_info": {
   "codemirror_mode": {
    "name": "ipython",
    "version": 3
   },
   "file_extension": ".py",
   "mimetype": "text/x-python",
   "name": "python",
   "nbconvert_exporter": "python",
   "pygments_lexer": "ipython3",
   "version": "3.12.1"
  }
 },
 "nbformat": 4,
 "nbformat_minor": 5
}
