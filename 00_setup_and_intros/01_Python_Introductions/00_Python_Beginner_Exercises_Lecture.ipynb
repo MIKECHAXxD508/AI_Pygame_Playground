{
 "cells": [
  {
   "cell_type": "markdown",
   "id": "45ad2422",
   "metadata": {},
   "source": [
    "### Python Beginner Exercises Lecture\n",
    "---\n",
    "#### Introduction to Python\n",
    "Welcome to your journey into learning Python! Python is a powerful, easy-to-learn programming language that's widely used in Machine Learning (AI), data science, automation, and many other fields. In these exercises, you'll practice some fundamental concepts in Python that will serve as a foundation for more advanced topics.\n",
    "---"
   ]
  },
  {
   "cell_type": "markdown",
   "id": "a1aac3c7",
   "metadata": {},
   "source": [
    "#### Variables and Data Types\n",
    "**Variables** are like containers that hold data. You can name them almost anything you want, and they store values that you can use and manipulate.\n",
    "\n",
    "- **Strings**: Text data, enclosed in quotes (`\"Hello\"`, `'World'`).\n",
    "- **Integers**: Whole numbers (`42`, `7`).\n",
    "- **Floats**: Decimal numbers (`3.14`, `2.71`).\n",
    "\n",
    "**Assignment**: Use the `=` operator to assign values to variables.\n",
    "\n",
    "Example:\n",
    "```python\n",
    "name = \"Alice\"\n",
    "age = 18\n",
    "```\n",
    "You can print variables using the `print()` function:\n",
    "```python\n",
    "print(name)\n",
    "print(age)\n",
    "```"
   ]
  },
  {
   "cell_type": "markdown",
   "id": "6ac85ad9",
   "metadata": {},
   "source": [
    "#### Exercise 1: Variable Assignments\n",
    "**Task**: Assign your name to a variable called `name` and your current age to a variable `age`. Print both."
   ]
  },
  {
   "cell_type": "code",
   "execution_count": null,
   "id": "a200141a",
   "metadata": {},
   "outputs": [],
   "source": [
    "# Write your code here"
   ]
  },
  {
   "cell_type": "markdown",
   "id": "f35ef959",
   "metadata": {},
   "source": [
    "#### Updating Variables and Math Operators\n",
    "You can update a variable by reassigning it a new value:\n",
    "```python\n",
    "age = age + 1  # Updates age by adding 1\n",
    "```\n",
    "Python supports basic math operations:\n",
    "- Addition (`+`)\n",
    "- Subtraction (`-`)\n",
    "- Multiplication (`*`)\n",
    "- Division (`/`)\n",
    "- Modulus (`%`) for the remainder\n",
    "\n",
    "Example:\n",
    "```python\n",
    "number = 10\n",
    "print(number + 5)  # Addition\n",
    "print(number - 3)  # Subtraction\n",
    "print(number * 2)  # Multiplication\n",
    "print(number / 4)  # Division\n",
    "print(number % 3)  # Modulus\n",
    "```"
   ]
  },
  {
   "cell_type": "markdown",
   "id": "5abeff16",
   "metadata": {},
   "source": [
    "#### Exercise 2: Updating Variables and Math Operators\n",
    "**Task**: Update your `age` variable to your age at your next birthday by adding one. Perform subtraction, multiplication, division, and modulus operations with any number you choose, and print the results."
   ]
  },
  {
   "cell_type": "code",
   "execution_count": null,
   "id": "fe8ad666",
   "metadata": {},
   "outputs": [],
   "source": [
    "# Write your code here"
   ]
  },
  {
   "cell_type": "markdown",
   "id": "5aba1d22",
   "metadata": {},
   "source": [
    "#### String Operations\n",
    "**Concatenation**: Combine strings using the `+` operator:\n",
    "```python\n",
    "greeting = \"Hello, \" + name + \"!\"\n",
    "print(greeting)\n",
    "```\n",
    "**Methods**: Strings have built-in methods like `.upper()` to convert to uppercase:\n",
    "```python\n",
    "print(greeting.upper())\n",
    "```"
   ]
  },
  {
   "cell_type": "markdown",
   "id": "b857a27b",
   "metadata": {},
   "source": [
    "#### Exercise 3: String Concatenation and Methods\n",
    "**Task**: Concatenate your name with the string saying \", you are learning Python!\" and print the result. Then, print your greeting in uppercase using `.upper()`."
   ]
  },
  {
   "cell_type": "code",
   "execution_count": null,
   "id": "df570856",
   "metadata": {},
   "outputs": [],
   "source": [
    "# Write your code here"
   ]
  },
  {
   "cell_type": "markdown",
   "id": "dc534940",
   "metadata": {},
   "source": [
    "#### Lists\n",
    "**Lists** are ordered collections of items, which can be of any data type, enclosed in square brackets `[]`.\n",
    "\n",
    "Example:\n",
    "```python\n",
    "months = [\"January\", \"February\", \"March\", \"April\"]\n",
    "print(months[0])  # First item\n",
    "print(months[3])  # Fourth item\n",
    "```\n",
    "Lists are zero-indexed, meaning the first element is at index 0."
   ]
  },
  {
   "cell_type": "markdown",
   "id": "73ff90d3",
   "metadata": {},
   "source": [
    "#### Exercise 4: List Initialization and Indices\n",
    "**Task**: Create a list named `months` containing the names of the first four months of the year. Print the entire list, then print the first and the fourth month using indices."
   ]
  },
  {
   "cell_type": "code",
   "execution_count": null,
   "id": "770e15b4",
   "metadata": {},
   "outputs": [],
   "source": [
    "# Write your code here"
   ]
  },
  {
   "cell_type": "markdown",
   "id": "f532a13c",
   "metadata": {},
   "source": [
    "#### Loops\n",
    "**For Loops** allow you to iterate over a sequence (like a list) and perform actions on each item.\n",
    "\n",
    "Example:\n",
    "```python\n",
    "animals = [\"dog\", \"cat\", \"bird\"]\n",
    "for animal in animals:\n",
    "    print(animal.upper())\n",
    "```\n"
   ]
  },
  {
   "cell_type": "markdown",
   "id": "31221a53",
   "metadata": {},
   "source": [
    "#### Exercise 8: List and String Operations\n",
    "**Task**: Create a list of your three favorite foods. Print each food in uppercase using a for loop."
   ]
  },
  {
   "cell_type": "code",
   "execution_count": null,
   "id": "ed077c52",
   "metadata": {},
   "outputs": [],
   "source": [
    "# Write your code here"
   ]
  },
  {
   "cell_type": "markdown",
   "id": "8b648897",
   "metadata": {},
   "source": [
    "#### String Methods and Operations\n",
    "**String Methods** can modify and provide information about strings. Common methods include:\n",
    "- `.capitalize()` to capitalize the first letter.\n",
    "- `.replace(old, new)` to replace parts of the string.\n",
    "- `len()` to get the length of the string.\n",
    "\n",
    "Example:\n",
    "```python\n",
    "phrase = \"learning Python is rewarding\"\n",
    "print(phrase.capitalize())\n",
    "print(phrase.replace(\"rewarding\", \"valuable\"))\n",
    "print(len(phrase))\n",
    "```"
   ]
  },
  {
   "cell_type": "markdown",
   "id": "eefd5ecc",
   "metadata": {},
   "source": [
    "#### Exercise 9: String Operations\n",
    "**Task**: Take the string \"learning Python is rewarding\" and use string methods to capitalize the first letter, replace \"rewarding\" with \"valuable\", and print the length of the new string."
   ]
  },
  {
   "cell_type": "code",
   "execution_count": null,
   "id": "49c5d359",
   "metadata": {},
   "outputs": [],
   "source": [
    "# Write your code here"
   ]
  },
  {
   "cell_type": "markdown",
   "id": "d9ef4415",
   "metadata": {},
   "source": [
    "#### Comprehensive Exercise: Personal Contact List\n",
    "You can combine what you've learned to manage and manipulate more complex data structures.\n",
    "\n",
    "<!---Example:\n",
    "```python\n",
    "contacts = [\"Alice\", \"Bob\", \"Charlie\"]\n",
    "contacts.append(\"David\")\n",
    "contacts.append(\"Eve\")\n",
    "print(contacts[:3])  # First three contacts\n",
    "for contact in contacts:\n",
    "    print(contact + \" is my friend.\")\n",
    "```--->"
   ]
  },
  {
   "cell_type": "markdown",
   "id": "330538ee",
   "metadata": {},
   "source": [
    "#### Exercise 10: Comprehensive Exercise: Personal Contact List\n",
    "**Task**: Create a list called `contacts` with names of three friends. Add two more names to the list, use list slicing to print the first three names, and print each name with a message saying \"[Name] is my friend.\""
   ]
  },
  {
   "cell_type": "code",
   "execution_count": null,
   "id": "8e33b57d",
   "metadata": {},
   "outputs": [],
   "source": [
    "# Write your code here"
   ]
  }
 ],
 "metadata": {
  "kernelspec": {
   "display_name": "venv",
   "language": "python",
   "name": "python3"
  },
  "language_info": {
   "name": "python",
   "version": "3.12.1"
  }
 },
 "nbformat": 4,
 "nbformat_minor": 5
}
