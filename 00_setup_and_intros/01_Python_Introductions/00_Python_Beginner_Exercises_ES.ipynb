{
 "cells": [
  {
   "cell_type": "markdown",
   "id": "36380eef",
   "metadata": {},
   "source": [
    "### Ejercicios para Principiantes en Python\n",
    "---\n",
    "#### Introducción a Python\n",
    "¡Bienvenido a tu viaje para aprender Python! Python es un lenguaje de programación poderoso y fácil de aprender que se usa ampliamente en Aprendizaje Automático (IA), ciencia de datos, automatización y muchos otros campos. En estos ejercicios, practicarás algunos conceptos fundamentales en Python que servirán como base para temas más avanzados.\n",
    "---"
   ]
  },
  {
   "cell_type": "markdown",
   "id": "78bd7091",
   "metadata": {},
   "source": [
    "#### Variables y Tipos de Datos\n",
    "**Las variables** son como contenedores que almacenan datos. Puedes nombrarlas casi como quieras, y almacenan valores que puedes usar y manipular.\n",
    "\n",
    "- **Cadenas**: Datos de texto, encerrados entre comillas (`\"Hola\"`, `'Mundo'`).\n",
    "- **Enteros**: Números enteros (`42`, `7`).\n",
    "- **Flotantes**: Números decimales (`3.14`, `2.71`).\n",
    "\n",
    "**Asignación**: Usa el operador `=` para asignar valores a las variables.\n",
    "\n",
    "Ejemplo:\n",
    "```python\n",
    "nombre = \"Alicia\"\n",
    "edad = 18\n",
    "```"
   ]
  },
  {
   "cell_type": "markdown",
   "id": "47ce6847",
   "metadata": {},
   "source": [
    "#### Ejercicio 1: Asignación de Variables\n",
    "**Tarea**: Asigna tu nombre a una variable llamada `nombre` y tu edad actual a una variable `edad`. Imprime ambos."
   ]
  },
  {
   "cell_type": "code",
   "execution_count": null,
   "id": "939f6357",
   "metadata": {},
   "outputs": [],
   "source": [
    "# Escribe tu código aquí"
   ]
  },
  {
   "cell_type": "markdown",
   "id": "10e15902",
   "metadata": {},
   "source": [
    "#### Actualización de Variables y Operadores Matemáticos\n",
    "Puedes actualizar una variable reasignándole un nuevo valor:\n",
    "```python\n",
    "edad = edad + 1  # Actualiza la edad sumando 1\n",
    "```\n",
    "Python soporta operaciones matemáticas básicas:\n",
    "- Suma (`+`)\n",
    "- Resta (`-`)\n",
    "- Multiplicación (`*`)\n",
    "- División (`/`)\n",
    "- Módulo (`%`) para obtener el resto\n",
    "\n",
    "Ejemplo:\n",
    "```python\n",
    "numero = 10\n",
    "print(numero + 5)  # Suma\n",
    "print(numero - 3)  # Resta\n",
    "print(numero * 2)  # Multiplicación\n",
    "print(numero / 4)  # División\n",
    "print(numero % 3)  # Módulo\n",
    "```"
   ]
  },
  {
   "cell_type": "markdown",
   "id": "b231ffae",
   "metadata": {},
   "source": [
    "#### Ejercicio 2: Actualización de Variables y Operadores Matemáticos\n",
    "**Tarea**: Actualiza tu variable `edad` a tu edad en tu próximo cumpleaños sumando uno. Realiza operaciones de resta, multiplicación, división y módulo con cualquier número que elijas, e imprime los resultados."
   ]
  },
  {
   "cell_type": "code",
   "execution_count": null,
   "id": "5279d439",
   "metadata": {},
   "outputs": [],
   "source": [
    "# Escribe tu código aquí"
   ]
  },
  {
   "cell_type": "markdown",
   "id": "14d53b9a",
   "metadata": {},
   "source": [
    "#### Operaciones con Cadenas\n",
    "**Concatenación**: Combina cadenas usando el operador `+`:\n",
    "```python\n",
    "saludo = \"Hola, \" + nombre + \"!\"\n",
    "print(saludo)\n",
    "```\n",
    "**Métodos**: Las cadenas tienen métodos incorporados como `.upper()` para convertir a mayúsculas:\n",
    "```python\n",
    "print(saludo.upper())\n",
    "```"
   ]
  },
  {
   "cell_type": "markdown",
   "id": "c114d736",
   "metadata": {},
   "source": [
    "#### Ejercicio 3: Concatenación de Cadenas y Métodos\n",
    "**Tarea**: Concatenar tu nombre con la cadena que dice \", ¡estás aprendiendo Python!\" e imprime el resultado. Luego, imprime tu saludo en mayúsculas usando `.upper()`."
   ]
  },
  {
   "cell_type": "code",
   "execution_count": null,
   "id": "86b10c63",
   "metadata": {},
   "outputs": [],
   "source": [
    "# Escribe tu código aquí"
   ]
  },
  {
   "cell_type": "markdown",
   "id": "60b6e642",
   "metadata": {},
   "source": [
    "#### Listas\n",
    "**Las listas** son colecciones ordenadas de elementos, que pueden ser de cualquier tipo de dato, encerradas entre corchetes `[]`.\n",
    "\n",
    "Ejemplo:\n",
    "```python\n",
    "meses = [\"Enero\", \"Febrero\", \"Marzo\", \"Abril\"]\n",
    "print(meses[0])  # Primer elemento\n",
    "print(meses[3])  # Cuarto elemento\n",
    "```\n",
    "Las listas están indexadas comenzando desde cero, lo que significa que el primer elemento está en el índice 0."
   ]
  },
  {
   "cell_type": "markdown",
   "id": "48a6bb1a",
   "metadata": {},
   "source": [
    "#### Ejercicio 4: Inicialización de Listas e Índices\n",
    "**Tarea**: Crea una lista llamada `meses` que contenga los nombres de los primeros cuatro meses del año. Imprime toda la lista, luego imprime el primer y el cuarto mes usando índices."
   ]
  },
  {
   "cell_type": "code",
   "execution_count": null,
   "id": "140209c5",
   "metadata": {},
   "outputs": [],
   "source": [
    "# Escribe tu código aquí"
   ]
  },
  {
   "cell_type": "markdown",
   "id": "01bf7ed5",
   "metadata": {},
   "source": [
    "#### Bucles\n",
    "**Los bucles for** te permiten iterar sobre una secuencia (como una lista) y realizar acciones en cada elemento.\n",
    "\n",
    "Ejemplo:\n",
    "```python\n",
    "animales = [\"perro\", \"gato\", \"pájaro\"]\n",
    "for animal in animales:\n",
    "    print(animal.upper())\n",
    "```"
   ]
  },
  {
   "cell_type": "markdown",
   "id": "8255656f",
   "metadata": {},
   "source": [
    "#### Ejercicio 8: Operaciones con Listas y Cadenas\n",
    "**Tarea**: Crea una lista con tus tres comidas favoritas. Imprime cada comida en mayúsculas usando un bucle for."
   ]
  },
  {
   "cell_type": "code",
   "execution_count": null,
   "id": "f082cad1",
   "metadata": {},
   "outputs": [],
   "source": [
    "# Escribe tu código aquí"
   ]
  },
  {
   "cell_type": "markdown",
   "id": "6526e1bc",
   "metadata": {},
   "source": [
    "#### Métodos y Operaciones con Cadenas\n",
    "**Métodos de cadenas** pueden modificar y proporcionar información sobre las cadenas. Algunos métodos comunes incluyen:\n",
    "- `.capitalize()` para capitalizar la primera letra.\n",
    "- `.replace(viejo, nuevo)` para reemplazar partes de la cadena.\n",
    "- `len()` para obtener la longitud de la cadena.\n",
    "\n",
    "Ejemplo:\n",
    "```python\n",
    "frase = \"aprender Python es gratificante\"\n",
    "print(frase.capitalize())\n",
    "print(frase.replace(\"gratificante\", \"valioso\"))\n",
    "print(len(frase))\n",
    "```"
   ]
  },
  {
   "cell_type": "markdown",
   "id": "458bed1e",
   "metadata": {},
   "source": [
    "#### Ejercicio 9: Operaciones con Cadenas\n",
    "**Tarea**: Toma la cadena \"aprender Python es gratificante\" y usa métodos de cadena para capitalizar la primera letra, reemplazar \"gratificante\" por \"valioso\", e imprimir la longitud de la nueva cadena."
   ]
  },
  {
   "cell_type": "code",
   "execution_count": null,
   "id": "b26c1742",
   "metadata": {},
   "outputs": [],
   "source": [
    "# Escribe tu código aquí"
   ]
  },
  {
   "cell_type": "markdown",
   "id": "6d891ce6",
   "metadata": {},
   "source": [
    "#### Ejercicio Integral: Lista de Contactos Personal\n",
    "Puedes combinar lo que has aprendido para gestionar y manipular estructuras de datos más complejas.\n",
    "\n",
    "<!---Ejemplo:\n",
    "```python\n",
    "contactos = [\"Alicia\", \"Roberto\", \"Carlos\"]\n",
    "contactos.append(\"David\")\n",
    "contactos.append(\"Eva\")\n",
    "print(contactos[:3])  # Primeros tres contactos\n",
    "for contacto in contactos:\n",
    "    print(contacto + \" es mi amigo.\")\n",
    "```--->"
   ]
  },
  {
   "cell_type": "markdown",
   "id": "d22c18e5",
   "metadata": {},
   "source": [
    "#### Ejercicio 10: Ejercicio Integral: Lista de Contactos Personal\n",
    "**Tarea**: Crea una lista llamada `contactos` con los nombres de tres amigos. Agrega dos nombres más a la lista, usa el slicing de listas para imprimir los primeros tres nombres, e imprime cada nombre con un mensaje que diga \"[Nombre] es mi amigo.\""
   ]
  },
  {
   "cell_type": "code",
   "execution_count": null,
   "id": "932a0e28",
   "metadata": {},
   "outputs": [],
   "source": [
    "# Escribe tu código aquí"
   ]
  }
 ],
 "metadata": {},
 "nbformat": 4,
 "nbformat_minor": 5
}
